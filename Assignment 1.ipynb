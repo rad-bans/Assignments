{
 "cells": [
  {
   "cell_type": "code",
   "execution_count": null,
   "id": "a41ebc68",
   "metadata": {},
   "outputs": [],
   "source": [
    "#question 1\n",
    "mathematical operator\n",
    "string\n",
    "float\n",
    "mathematical operator\n",
    "mathematical operator\n",
    "mathematical operator\n",
    "integer"
   ]
  },
  {
   "cell_type": "code",
   "execution_count": null,
   "id": "6e8777b0",
   "metadata": {},
   "outputs": [],
   "source": [
    "#question 2\n",
    "A string is a structure phrase consisting of alphabets. Numeric values can be converted to string using inverted commas.\n",
    "A variable can consists of a string or an intger or numeric values "
   ]
  },
  {
   "cell_type": "code",
   "execution_count": null,
   "id": "5fb3d3f2",
   "metadata": {},
   "outputs": [],
   "source": [
    "# question 3\n",
    "Data types: \n",
    "1. string- values which are just text/plain english\n",
    "2. float- values which consist of decimal part\n",
    "3. integer- values which are only whole numbers"
   ]
  },
  {
   "cell_type": "code",
   "execution_count": null,
   "id": "aa078c71",
   "metadata": {},
   "outputs": [],
   "source": [
    "#question 4\n",
    "An expression is constructed using variables and operators according to the syntax of the language, that evaluates to a single value.\n"
   ]
  },
  {
   "cell_type": "code",
   "execution_count": null,
   "id": "c8bd3bb5",
   "metadata": {},
   "outputs": [],
   "source": [
    "#question 5\n",
    "An expression is a value of the statement"
   ]
  },
  {
   "cell_type": "code",
   "execution_count": null,
   "id": "35a11982",
   "metadata": {},
   "outputs": [],
   "source": [
    "#question 6\n",
    "22"
   ]
  },
  {
   "cell_type": "code",
   "execution_count": null,
   "id": "1ed9fdf1",
   "metadata": {},
   "outputs": [],
   "source": [
    "#question 7\n",
    "spamspamspam\n",
    "spamspamspam"
   ]
  },
  {
   "cell_type": "code",
   "execution_count": null,
   "id": "dfcfd834",
   "metadata": {},
   "outputs": [],
   "source": [
    "#question 8\n",
    "eggs is a valid variable name as name should be string value while 100 is integer"
   ]
  },
  {
   "cell_type": "code",
   "execution_count": null,
   "id": "183afe53",
   "metadata": {},
   "outputs": [],
   "source": [
    "#question 9\n",
    "to get an integer: use int()\n",
    "to get an float: use float()\n",
    "to get string : use str()"
   ]
  },
  {
   "cell_type": "code",
   "execution_count": 6,
   "id": "56df9b43",
   "metadata": {},
   "outputs": [
    {
     "data": {
      "text/plain": [
       "'I have eaten 99 burritos.'"
      ]
     },
     "execution_count": 6,
     "metadata": {},
     "output_type": "execute_result"
    }
   ],
   "source": [
    "#question 10\n",
    "#error because we are trying to add string with int values, which gives an error\n",
    "#can be corrected by converting 99 to integer\n",
    "'I have eaten '+ str(99) +' burritos.'"
   ]
  },
  {
   "cell_type": "code",
   "execution_count": null,
   "id": "f4f1ac07",
   "metadata": {},
   "outputs": [],
   "source": []
  }
 ],
 "metadata": {
  "kernelspec": {
   "display_name": "Python 3 (ipykernel)",
   "language": "python",
   "name": "python3"
  },
  "language_info": {
   "codemirror_mode": {
    "name": "ipython",
    "version": 3
   },
   "file_extension": ".py",
   "mimetype": "text/x-python",
   "name": "python",
   "nbconvert_exporter": "python",
   "pygments_lexer": "ipython3",
   "version": "3.9.12"
  }
 },
 "nbformat": 4,
 "nbformat_minor": 5
}
